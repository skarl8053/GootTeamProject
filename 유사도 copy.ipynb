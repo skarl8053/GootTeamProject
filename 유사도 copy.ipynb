{
 "cells": [
  {
   "cell_type": "code",
   "execution_count": 2,
   "metadata": {},
   "outputs": [
    {
     "name": "stdout",
     "output_type": "stream",
     "text": [
      "4                            생각의 창의성 TRIZ (트리즈) \n",
      "9                             개발자 영어 (코드로 감 잡다) \n",
      "3     Big Questions 118 원소 (사진으로 공감하는 원소의 모든 것) \n",
      "6                                   사랑으로 매긴 성적표 \n",
      "11                  알고리즘 도감 (그림으로 공부하는 알고리즘 26) \n",
      "1               삽질정신 (전설의 공모전 여왕 빡씬의 무한열정 다이어리) \n",
      "Name: btitle, dtype: object\n"
     ]
    }
   ],
   "source": [
    "from sklearn.metrics.pairwise import linear_kernel\n",
    "from sklearn.feature_extraction.text import TfidfVectorizer\n",
    "import pandas as pd\n",
    "import numpy as np\n",
    "bookdf1 = pd.read_csv('C:\\\\스프링프로젝트\\\\bookinfo.csv')\n",
    "\n",
    "tfidf = TfidfVectorizer(stop_words='english')\n",
    "\n",
    "tfidf_matrix_book = tfidf.fit_transform(bookdf1['bstory'])\n",
    "\n",
    "cosine_sim_book = linear_kernel(tfidf_matrix_book, tfidf_matrix_book)\n",
    "indices_book = pd.Series(\n",
    "    bookdf1.index, index=bookdf1['btitle']).drop_duplicates()\n",
    "\n",
    "bookdf1.columns = ['no', 'btitle', 'bstory',\n",
    "                   'bwriter', 'bpub', 'bprice', 'bdate']\n",
    "\n",
    "\n",
    "def get_recommendations_book(btitle, cosine_sim_book=cosine_sim_book):\n",
    "    #  index값을 가져오기\n",
    "    idx_book = indices_book[btitle]\n",
    "    sim_scores_book = list(enumerate(cosine_sim_book[idx_book]))\n",
    "    # 코사인 유사도매트릭스 cosine_sim에서 idx에 해당하는 데이터를 (idx, 유사도)\n",
    "    sim_scores_book = sorted(sim_scores_book, key=lambda x: x[1], reverse=True)\n",
    "    # 코사인 유사도 기준으로 내림차순정렬\n",
    "\n",
    "    sim_scores_book = sim_scores_book[1:7]\n",
    "    # 자신을 제외한 7개의 추천 영화를 슬라이싱\n",
    "    # 추천서적목록 인덱스 정보 추출\n",
    "    title_indices_book = [i[0] for i in sim_scores_book]\n",
    "    return bookdf1['btitle'].iloc[title_indices_book]\n",
    "\n",
    "\n",
    "print(get_recommendations_book('업무의 잔머리 '))"
   ]
  }
 ],
 "metadata": {
  "kernelspec": {
   "display_name": "base",
   "language": "python",
   "name": "python3"
  },
  "language_info": {
   "codemirror_mode": {
    "name": "ipython",
    "version": 3
   },
   "file_extension": ".py",
   "mimetype": "text/x-python",
   "name": "python",
   "nbconvert_exporter": "python",
   "pygments_lexer": "ipython3",
   "version": "3.11.3"
  },
  "orig_nbformat": 4
 },
 "nbformat": 4,
 "nbformat_minor": 2
}
