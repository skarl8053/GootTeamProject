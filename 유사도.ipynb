{
 "cells": [
  {
   "cell_type": "code",
   "execution_count": 45,
   "metadata": {},
   "outputs": [],
   "source": [
    "import pandas as pd\n",
    "import numpy as np\n",
    "\n",
    "df1 = pd.read_csv('C:\\\\스프링프로젝트\\\\TMSTROOM_DATA_TABLE.csv')"
   ]
  },
  {
   "cell_type": "code",
   "execution_count": 46,
   "metadata": {},
   "outputs": [
    {
     "data": {
      "text/plain": [
       "Index(['R_NO', 'R_NAME', 'R_DETAIL', 'R_PERSON_CNT', 'R_PRICE', 'Unnamed: 5',\n",
       "       'Unnamed: 6', 'Unnamed: 7', 'Unnamed: 8', 'Unnamed: 9', 'Unnamed: 10',\n",
       "       'Unnamed: 11', 'Unnamed: 12', 'Unnamed: 13', 'Unnamed: 14',\n",
       "       'Unnamed: 15', 'Unnamed: 16'],\n",
       "      dtype='object')"
      ]
     },
     "execution_count": 46,
     "metadata": {},
     "output_type": "execute_result"
    }
   ],
   "source": [
    "# 앞의 3개 데이터만 보여줌\n",
    "df1.head(3) \n",
    "# 컬럼 수 보여줌\n",
    "df1.shape\n",
    "# 컬럼 내용 보여줌\n",
    "df1.columns"
   ]
  },
  {
   "cell_type": "code",
   "execution_count": 47,
   "metadata": {},
   "outputs": [
    {
     "data": {
      "text/plain": [
       "(39, 24)"
      ]
     },
     "execution_count": 47,
     "metadata": {},
     "output_type": "execute_result"
    }
   ],
   "source": [
    "# 기계 학습\n",
    "# TfidfVectorizer : 기계학습 라이브러리\n",
    "\n",
    "from sklearn.feature_extraction.text import TfidfVectorizer\n",
    "tfidf=TfidfVectorizer()\n",
    "\n",
    "tfidf_matrix_room=tfidf.fit_transform(df1['R_NAME'])\n",
    "tfidf_matrix_room.shape # (12, 232) : 12개의 행에 232개의 데이터가 있음"
   ]
  },
  {
   "cell_type": "code",
   "execution_count": 48,
   "metadata": {},
   "outputs": [
    {
     "data": {
      "text/plain": [
       "array([[1.        , 0.83849225, 0.83849225, ..., 0.16150775, 0.        ,\n",
       "        0.        ],\n",
       "       [0.83849225, 1.        , 0.83849225, ..., 0.        , 0.16150775,\n",
       "        0.        ],\n",
       "       [0.83849225, 0.83849225, 1.        , ..., 0.        , 0.        ,\n",
       "        0.16150775],\n",
       "       ...,\n",
       "       [0.16150775, 0.        , 0.        , ..., 1.        , 0.83849225,\n",
       "        0.83849225],\n",
       "       [0.        , 0.16150775, 0.        , ..., 0.83849225, 1.        ,\n",
       "        0.83849225],\n",
       "       [0.        , 0.        , 0.16150775, ..., 0.83849225, 0.83849225,\n",
       "        1.        ]])"
      ]
     },
     "execution_count": 48,
     "metadata": {},
     "output_type": "execute_result"
    }
   ],
   "source": [
    "# 데이터를 모아서 행렬로 변경\n",
    "\n",
    "from sklearn.metrics.pairwise import linear_kernel\n",
    "cosine_sim_room=linear_kernel(tfidf_matrix_room,tfidf_matrix_room)\n",
    "cosine_sim_room"
   ]
  },
  {
   "cell_type": "code",
   "execution_count": 49,
   "metadata": {},
   "outputs": [
    {
     "data": {
      "text/plain": [
       "R_NAME\n",
       "소노캄 거제 101호           0\n",
       "소노캄 거제 102호           1\n",
       "소노캄 거제 103호           2\n",
       "스탠포드 호텔 서울 101호       3\n",
       "스탠포드 호텔 서울 102호       4\n",
       "스탠포드 호텔 서울 103호       5\n",
       "그라벨호텔제주 101호          6\n",
       "그라벨호텔제주 102호          7\n",
       "그라벨호텔제주 103호          8\n",
       "센텀 프리미어 호텔 101호       9\n",
       "센텀 프리미어 호텔 102호      10\n",
       "센텀 프리미어 호텔 103호      11\n",
       "오크우드 프리미어 인천 101호    12\n",
       "오크우드 프리미어 인천 102호    13\n",
       "오크우드 프리미어 인천 103호    14\n",
       "호텔 디에디션 101호         15\n",
       "호텔 디에디션 102호         16\n",
       "호텔 디에디션 103호         17\n",
       "아리아나 호텔 101호         18\n",
       "아리아나 호텔 102호         19\n",
       "아리아나 호텔 103호         20\n",
       "에이치원 호텔 101호         21\n",
       "에이치원 호텔 102호         22\n",
       "에이치원 호텔 103호         23\n",
       "스타즈 호텔 울산 101호       24\n",
       "스타즈 호텔 울산 102호       25\n",
       "스타즈 호텔 울산 103호       26\n",
       "에덴파라다이스호텔 101호       27\n",
       "에덴파라다이스호텔 102호       28\n",
       "에덴파라다이스호텔 103호       29\n",
       "씨 크루즈 호텔 101호        30\n",
       "씨 크루즈 호텔 102호        31\n",
       "씨 크루즈 호텔 103호        32\n",
       "신안스테이 천안 101호        33\n",
       "신안스테이 천안 102호        34\n",
       "신안스테이 천안 103호        35\n",
       "쏠비치 진도 101호          36\n",
       "쏠비치 진도 102호          37\n",
       "쏠비치 진도 103호          38\n",
       "dtype: int64"
      ]
     },
     "execution_count": 49,
     "metadata": {},
     "output_type": "execute_result"
    }
   ],
   "source": [
    "indices_room=pd.Series(df1.index,index=df1['R_NAME']).drop_duplicates()\n",
    "indices_room"
   ]
  },
  {
   "cell_type": "code",
   "execution_count": 50,
   "metadata": {},
   "outputs": [
    {
     "data": {
      "text/plain": [
       "23"
      ]
     },
     "execution_count": 50,
     "metadata": {},
     "output_type": "execute_result"
    }
   ],
   "source": [
    "indices_room['에이치원 호텔 103호']"
   ]
  },
  {
   "cell_type": "code",
   "execution_count": 51,
   "metadata": {},
   "outputs": [
    {
     "data": {
      "text/plain": [
       "R_NAME\n",
       "스탠포드 호텔 서울 103호    5\n",
       "dtype: int64"
      ]
     },
     "execution_count": 51,
     "metadata": {},
     "output_type": "execute_result"
    }
   ],
   "source": [
    "indices_room.iloc[[5]]"
   ]
  },
  {
   "cell_type": "code",
   "execution_count": 52,
   "metadata": {},
   "outputs": [
    {
     "ename": "NameError",
     "evalue": "name 'cosine_sim_book' is not defined",
     "output_type": "error",
     "traceback": [
      "\u001b[1;31m---------------------------------------------------------------------------\u001b[0m",
      "\u001b[1;31mNameError\u001b[0m                                 Traceback (most recent call last)",
      "Cell \u001b[1;32mIn[52], line 1\u001b[0m\n\u001b[1;32m----> 1\u001b[0m \u001b[39mdef\u001b[39;00m \u001b[39mget_room\u001b[39m(btitle,consine_sim_book\u001b[39m=\u001b[39mcosine_sim_book):\n\u001b[0;32m      2\u001b[0m     idx_book\u001b[39m=\u001b[39mindices_room[btitle]\n\u001b[0;32m      3\u001b[0m     sim_scores_book\u001b[39m=\u001b[39m\u001b[39mlist\u001b[39m(\u001b[39menumerate\u001b[39m(cosine_sim_book[idx_book]))\n",
      "\u001b[1;31mNameError\u001b[0m: name 'cosine_sim_book' is not defined"
     ]
    }
   ],
   "source": [
    "def get_room(btitle,consine_sim_book=cosine_sim_book):\n",
    "    idx_book=indices_room[btitle]\n",
    "    sim_scores_book=list(enumerate(cosine_sim_book[idx_book]))\n",
    "    sim_scores_book=sorted(sim_scores_book,key=lambda x:x[1],reverse=True)\n",
    "    sim_scores_book=sim_scores_book[1:7]\n",
    "    book_indices=[i[1] for i in sim_scores_book]\n",
    "    return df1['btitle'].iloc[book_indices]"
   ]
  },
  {
   "cell_type": "code",
   "execution_count": null,
   "metadata": {},
   "outputs": [
    {
     "ename": "TypeError",
     "evalue": "'numpy.int64' object is not iterable",
     "output_type": "error",
     "traceback": [
      "\u001b[1;31m---------------------------------------------------------------------------\u001b[0m",
      "\u001b[1;31mTypeError\u001b[0m                                 Traceback (most recent call last)",
      "Cell \u001b[1;32mIn[44], line 1\u001b[0m\n\u001b[1;32m----> 1\u001b[0m get_room(\u001b[39m'\u001b[39m\u001b[39m스탠포드 호텔 서울 103호\u001b[39m\u001b[39m'\u001b[39m)\n",
      "Cell \u001b[1;32mIn[43], line 3\u001b[0m, in \u001b[0;36mget_room\u001b[1;34m(btitle, consine_sim_book)\u001b[0m\n\u001b[0;32m      1\u001b[0m \u001b[39mdef\u001b[39;00m \u001b[39mget_room\u001b[39m(btitle,consine_sim_book \u001b[39m=\u001b[39m indices_room):\n\u001b[0;32m      2\u001b[0m     idx_book\u001b[39m=\u001b[39mindices_room[btitle]\n\u001b[1;32m----> 3\u001b[0m     sim_scores_book\u001b[39m=\u001b[39m\u001b[39mlist\u001b[39m(\u001b[39menumerate\u001b[39m(consine_sim_book[idx_book]))\n\u001b[0;32m      4\u001b[0m     sim_scores_book\u001b[39m=\u001b[39m\u001b[39msorted\u001b[39m(sim_scores_book,key\u001b[39m=\u001b[39m\u001b[39mlambda\u001b[39;00m x:x[\u001b[39m1\u001b[39m],reverse\u001b[39m=\u001b[39m\u001b[39mTrue\u001b[39;00m)\n\u001b[0;32m      5\u001b[0m     sim_scores_book\u001b[39m=\u001b[39msim_scores_book[\u001b[39m1\u001b[39m:\u001b[39m7\u001b[39m]\n",
      "\u001b[1;31mTypeError\u001b[0m: 'numpy.int64' object is not iterable"
     ]
    }
   ],
   "source": [
    "get_room('스탠포드 호텔 서울 103호')"
   ]
  }
 ],
 "metadata": {
  "kernelspec": {
   "display_name": "base",
   "language": "python",
   "name": "python3"
  },
  "language_info": {
   "codemirror_mode": {
    "name": "ipython",
    "version": 3
   },
   "file_extension": ".py",
   "mimetype": "text/x-python",
   "name": "python",
   "nbconvert_exporter": "python",
   "pygments_lexer": "ipython3",
   "version": "3.11.3"
  },
  "orig_nbformat": 4
 },
 "nbformat": 4,
 "nbformat_minor": 2
}
